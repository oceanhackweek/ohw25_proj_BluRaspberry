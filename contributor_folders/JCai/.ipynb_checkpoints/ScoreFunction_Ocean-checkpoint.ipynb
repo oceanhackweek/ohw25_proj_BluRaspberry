{
 "cells": [
  {
   "cell_type": "markdown",
   "id": "f520c911-e70a-481c-b144-87fbbc70fe72",
   "metadata": {},
   "source": [
    "# Score Function to optimize the path of UUV\n",
    "provide score fields for different cases ('consideration') for UUV sim"
   ]
  },
  {
   "cell_type": "code",
   "execution_count": null,
   "id": "77f7f57f-4fd4-4da9-a7a7-79a05bd87c8a",
   "metadata": {},
   "outputs": [],
   "source": [
    "import xarray as xr\n",
    "import numpy as np"
   ]
  },
  {
   "cell_type": "markdown",
   "id": "e25492dd-3ed8-415c-bcd2-2cff5258f84c",
   "metadata": {},
   "source": [
    "## Score function to provide score for each case\n",
    "INPUT: [lon, lat, depth, timestep]\n",
    "OUTPUT: [score1, score2, score3]\n",
    "\n",
    "1. O2 gradient: stronger gradient has higher score\n",
    "2. OUR: larger magnitude has higher score, need O2, water age, temperature, and salinity\n",
    "3. Current: ?"
   ]
  },
  {
   "cell_type": "code",
   "execution_count": null,
   "id": "2492d364-07b8-415f-a27d-8d52a7b81b8e",
   "metadata": {},
   "outputs": [],
   "source": [
    "def get_o2_age(lon, lat, depth, method='nearest'):\n",
    "    \" get Oxygen [mmol/(m^3 s)] and water age from OCIM at a giving location\"\n",
    "\n",
    "    OCIM_nc_file = 'OCIM_model_output.nc'\n",
    "    ds = xr.open_dataset(OCIM_nc)\n",
    "\n",
    "    point = ds.sel(lon=lon, lat=lat, depth=depth, method=method)\n",
    "    \n",
    "    O2 = float(point['O2'].values)\n",
    "    age = float(point['age'].values)\n",
    "    \n",
    "    return O2, age"
   ]
  },
  {
   "cell_type": "code",
   "execution_count": null,
   "id": "7d40e3be-6169-46be-a907-daebd944adf0",
   "metadata": {},
   "outputs": [],
   "source": [
    "# Example usage\n",
    "robot_location = (123.45, 37.78, 10.0)  # (lon, lat, depth)\n",
    "O2, age = get_o2_age(*robot_location)\n",
    "\n",
    "print(\"O2:\", O2)\n",
    "print(\"Age:\", age)"
   ]
  },
  {
   "cell_type": "code",
   "execution_count": null,
   "id": "829477a9-0d16-46dc-a061-559782611ac8",
   "metadata": {},
   "outputs": [],
   "source": []
  }
 ],
 "metadata": {
  "kernelspec": {
   "display_name": "Python 3 (ipykernel)",
   "language": "python",
   "name": "python3"
  },
  "language_info": {
   "codemirror_mode": {
    "name": "ipython",
    "version": 3
   },
   "file_extension": ".py",
   "mimetype": "text/x-python",
   "name": "python",
   "nbconvert_exporter": "python",
   "pygments_lexer": "ipython3",
   "version": "3.12.11"
  }
 },
 "nbformat": 4,
 "nbformat_minor": 5
}
