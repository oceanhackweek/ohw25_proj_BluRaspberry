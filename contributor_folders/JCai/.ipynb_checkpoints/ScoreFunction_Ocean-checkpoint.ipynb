{
 "cells": [
  {
   "cell_type": "markdown",
   "id": "f520c911-e70a-481c-b144-87fbbc70fe72",
   "metadata": {},
   "source": [
    "# Score Function to optimize the path of UUV\n",
    "provide score fields for different cases ('consideration') for UUV sim"
   ]
  },
  {
   "cell_type": "code",
   "execution_count": 55,
   "id": "77f7f57f-4fd4-4da9-a7a7-79a05bd87c8a",
   "metadata": {},
   "outputs": [],
   "source": [
    "import xarray as xr\n",
    "import numpy as np\n",
    "\n",
    "# OCIM_nc_file = '../../data/ds_OCIM_struct.nc' # in 'data' folder, update the nc file if needed\n",
    "# ds_OCIM = xr.open_dataset(OCIM_nc_file)\n",
    "\n",
    "nemo_nc_file = '../../data/copernicus-subset-jul-01-03-2025.nc' # in 'data' folder, update the nc file if needed\n",
    "ds_nemo = xr.open_dataset(nemo_nc_file)"
   ]
  },
  {
   "cell_type": "markdown",
   "id": "e25492dd-3ed8-415c-bcd2-2cff5258f84c",
   "metadata": {},
   "source": [
    "## Score function to provide score for biological activities intensity\n",
    "INPUT: [longitude, lattitude, depth]\n",
    "OUTPUT: [score]\n",
    "\n",
    "gradient of O2 satuation rate: larger magnitude of gradient has higher score, need O2, water age, temperature, and salinity. gradient_O2 = abs(O2sat(Potential Coords) - O2sat(Current Coords))."
   ]
  },
  {
   "cell_type": "code",
   "execution_count": 35,
   "id": "2492d364-07b8-415f-a27d-8d52a7b81b8e",
   "metadata": {},
   "outputs": [],
   "source": [
    "# def get_o2_age(lon, lat, depth):\n",
    "#     \"\"\"\n",
    "#     get Oxygen [mmol/(m^3 s)] and water age from OCIM at a giving location\n",
    "#     \"\"\"\n",
    "#     point = ds_OCIM.sel(longitude=lon, latitude=lat, depth=depth, method='nearest')\n",
    "    \n",
    "#     O2 = float(point['dO_conc'].values)\n",
    "#     age = float(point['water_age_sec'].values)\n",
    "    \n",
    "#     return O2, age"
   ]
  },
  {
   "cell_type": "code",
   "execution_count": 36,
   "id": "829477a9-0d16-46dc-a061-559782611ac8",
   "metadata": {},
   "outputs": [],
   "source": [
    "def get_o2sat(lon, lat, depth):\n",
    "    \"\"\"\n",
    "    Computes the oxygen saturation concentration at 1 atm total pressure\n",
    "    in mol/m^3 given temperature (T, in °C) and salinity (S, in ‰).\n",
    "\n",
    "    From Garcia and Gordon (1992), Limnology and Oceanography.\n",
    "    Note: The \"A3*TS^2\" term in the paper is incorrect.\n",
    "\n",
    "    Valid range:\n",
    "        T(freezing) <= T <= 40 °C\n",
    "        0 ‰ <= S <= 42 ‰\n",
    "\n",
    "    Check value:\n",
    "        T = 10.0 °C, S = 35.0 ‰ → o2sat = 0.282015 mol/m^3 = 282 mmol/m^3\n",
    "    \"\"\"\n",
    "\n",
    "    # --------------------------------------------------------------------------\n",
    "    # grab T and S from location (lon, lat, depth) \n",
    "    # --------------------------------------------------------------------------\n",
    "\n",
    "    point = ds_nemo.sel(longitude=lon, latitude=lat, depth=depth, method='nearest')\n",
    "\n",
    "    T = float(point['thetao'].values) # potential temperature, unit of deg c\n",
    "    S = float(point['so'].values) # pratical salinity, unit of PSU\n",
    "    \n",
    "\n",
    "    # -------------------------------------------------------------------------\n",
    "    # calculate the satuation rate\n",
    "    # --------------------------------------------------------------------------\n",
    "    \n",
    "    # Coefficients\n",
    "    A0, A1, A2, A3, A4, A5 = 2.00907, 3.22014, 4.05010, 4.94457, -2.56847e-1, 3.88767\n",
    "    B0, B1, B2, B3 = -6.24523e-3, -7.37614e-3, -1.03410e-2, -8.17083e-3\n",
    "    C0 = -4.88682e-7\n",
    "\n",
    "    TT = 298.15 - T\n",
    "    TK = 273.15 + T\n",
    "    TS = np.log(TT / TK)\n",
    "\n",
    "    # Polynomial terms\n",
    "    TS2, TS3, TS4, TS5 = TS**2, TS**3, TS**4, TS**5\n",
    "\n",
    "    # Oxygen solubility (ml/L)\n",
    "    CO = (A0 + A1*TS + A2*TS2 + A3*TS3 + A4*TS4 + A5*TS5\n",
    "          + S*(B0 + B1*TS + B2*TS2 + B3*TS3)\n",
    "          + C0*(S**2))\n",
    "\n",
    "    o2sat = np.exp(CO)\n",
    "\n",
    "    # Convert from ml/L to mmol/m^3\n",
    "    o2sat = (o2sat / 22391.6) * 1000.0 * 1000.0 \n",
    "\n",
    "    return o2sat"
   ]
  },
  {
   "cell_type": "code",
   "execution_count": 58,
   "id": "7d40e3be-6169-46be-a907-daebd944adf0",
   "metadata": {},
   "outputs": [
    {
     "name": "stdout",
     "output_type": "stream",
     "text": [
      "O2_Sat: 292.54382786781025\n"
     ]
    }
   ],
   "source": [
    "# Example usage\n",
    "robot_location = (-69, 40, 250)  # (lon, lat, depth)\n",
    "# O2, age = get_o2_age(*robot_location)\n",
    "O2sat = get_o2sat(*robot_location)\n",
    "\n",
    "# print(\"O2:\", O2)\n",
    "# print(\"Age:\", age)\n",
    "print(\"O2_Sat:\", O2sat)"
   ]
  },
  {
   "cell_type": "code",
   "execution_count": 53,
   "id": "854c0c0c-1801-471c-8600-7a887d5586c6",
   "metadata": {},
   "outputs": [],
   "source": [
    "def score_o2sat(cc, pc):\n",
    "    \"\"\"\n",
    "    input:\n",
    "    ---------------------------\n",
    "    cc: tuple\n",
    "        current coords (lon0, lat0, depth0)\n",
    "    pc: list of tuples\n",
    "        potential coords [(lon1, lat1, depth1), (lon2,lat2, depth2), ....]\n",
    "\n",
    "    get O2sat_{} based on the lon, lat, depth.\n",
    "    \n",
    "    gradient = np.abs(O2sat_cc - O2sat_pc)\n",
    "\n",
    "    normalized to 0-1 as score\n",
    "\n",
    "    return:\n",
    "    ---------------------------\n",
    "    normalized gradient scores (0-1), with the size of pc\n",
    "    \n",
    "    \"\"\"\n",
    "    # AOR in current location\n",
    "    O2sat_cc = get_o2sat(*cc)\n",
    "\n",
    "    # AOR in potential locations\n",
    "    O2sat_pc = np.array([get_o2sat(*loc) for loc in pc])\n",
    "\n",
    "    grad = np.abs(O2sat_cc - O2sat_pc)\n",
    "\n",
    "    # Create mask of valid (non-NaN) entries\n",
    "    valid_mask = ~np.isnan(grad)\n",
    "\n",
    "    # Initialize scores array with NaNs\n",
    "    scores = np.full_like(grad, np.nan, dtype=float)\n",
    "\n",
    "    # Normalize only non-NaN gradients\n",
    "    total = np.sum(grad[valid_mask])\n",
    "    if total > 0:\n",
    "        scores[valid_mask] = grad[valid_mask] / total\n",
    "    # else: all zeros remain NaN\n",
    "\n",
    "    return scores"
   ]
  },
  {
   "cell_type": "code",
   "execution_count": 59,
   "id": "19d53a3d-d019-4586-97a6-f11658945b5a",
   "metadata": {},
   "outputs": [
    {
     "name": "stdout",
     "output_type": "stream",
     "text": [
      "[0.60738414 0.33563339 0.02754308        nan 0.02943939]\n"
     ]
    }
   ],
   "source": [
    "# example usage\n",
    "\n",
    "cc = (-46, 42, 250)\n",
    "pc = [\n",
    "    (45.0,   -20.0,   100),    # South Atlantic, shallow\n",
    "    (123.0,   37.0,   500),    # NW Pacific, mid-depth\n",
    "    (-160.0, -10.0,  1500),    # Equatorial Pacific, deep (200 - 360 = -160)\n",
    "    (-50.0,   60.0,   250),    # North Pacific, shelf slope (310 - 360 = -50)\n",
    "    (10.0,    0.0,   4000)     # Equatorial Atlantic, abyssal\n",
    "]\n",
    "\n",
    "scores = score_o2sat(cc, pc)\n",
    "print(scores)  # array of normalized scores"
   ]
  },
  {
   "cell_type": "markdown",
   "id": "77a4cb14-082f-4f44-ab81-cb5f10a944a3",
   "metadata": {},
   "source": [
    "## Feed geostrophic current (u,v) at given location\n",
    "from NEMO3.6 numerical simulation, three-day averaging\n",
    "\n",
    "INPUT: [longitude, latitude, depth]\n",
    "OUPUT: u,v"
   ]
  },
  {
   "cell_type": "code",
   "execution_count": 60,
   "id": "8161f1da-d0f9-4665-9bbb-2f8fe56ab81b",
   "metadata": {},
   "outputs": [],
   "source": [
    "def get_uv(lon, lat, depth):\n",
    "    \"\"\"\n",
    "    get geostrophic velocity u and v [m/s] from Global Ocean Physics Analysis and Forecast (NEMO model) at a giving location\n",
    "    \"\"\"\n",
    "\n",
    "    # --------------------------------------------------------------------------\n",
    "    # grab u and v from location (lon, lat, depth) \n",
    "    # --------------------------------------------------------------------------\n",
    "\n",
    "    point = ds_nemo.sel(longitude=lon, latitude=lat, depth=depth, method='nearest')\n",
    "\n",
    "    u = float(point['uo'].values) # eastward ocean current velocity\n",
    "    v = float(point['vo'].values) # northward ocean current velocity\n",
    "\n",
    "    return u,v"
   ]
  },
  {
   "cell_type": "code",
   "execution_count": 61,
   "id": "156ee6ab-8ed0-4203-afb7-65df8192da8e",
   "metadata": {},
   "outputs": [
    {
     "name": "stdout",
     "output_type": "stream",
     "text": [
      "u: -0.09740851074457169\n",
      "v: -0.02467469312250614\n"
     ]
    }
   ],
   "source": [
    "# Example usage\n",
    "robot_location = (-46, 42, 250)  # (lon, lat, depth)\n",
    "u, v = get_uv(*robot_location)\n",
    "print(\"u:\", u)\n",
    "print(\"v:\", v)"
   ]
  },
  {
   "cell_type": "code",
   "execution_count": null,
   "id": "a67ad76b-0cfb-4e7d-9529-6f443a39f438",
   "metadata": {},
   "outputs": [],
   "source": []
  }
 ],
 "metadata": {
  "kernelspec": {
   "display_name": "Python 3 (ipykernel)",
   "language": "python",
   "name": "python3"
  },
  "language_info": {
   "codemirror_mode": {
    "name": "ipython",
    "version": 3
   },
   "file_extension": ".py",
   "mimetype": "text/x-python",
   "name": "python",
   "nbconvert_exporter": "python",
   "pygments_lexer": "ipython3",
   "version": "3.12.10"
  }
 },
 "nbformat": 4,
 "nbformat_minor": 5
}
