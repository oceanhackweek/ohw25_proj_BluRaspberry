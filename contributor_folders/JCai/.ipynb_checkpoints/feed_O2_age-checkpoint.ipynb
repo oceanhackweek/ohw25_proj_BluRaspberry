{
 "cells": [
  {
   "cell_type": "code",
   "execution_count": null,
   "id": "0260f099-b4f7-4ab2-bc8c-83dcca26943d",
   "metadata": {},
   "outputs": [],
   "source": [
    "import xarray as xr\n",
    "import numpy as np\n",
    "\n",
    "def get_model_vars(lon, lat, depth, method='nearest'):\n",
    "    \n",
    "    nc_file = 'model_output.nc'\n",
    "    ds = xr.open_dataset(OCIM_nc)\n",
    "\n",
    "    point = ds.sel(lon=lon, lat=lat, depth=depth, method=method)\n",
    "    \n",
    "    o2 = float(point['O2'].values)\n",
    "    age = float(point['age'].values)\n",
    "    \n",
    "    return {'O2': o2, 'age': age}\n"
   ]
  },
  {
   "cell_type": "code",
   "execution_count": null,
   "id": "7d40e3be-6169-46be-a907-daebd944adf0",
   "metadata": {},
   "outputs": [],
   "source": [
    "robot_location = (123.45, 37.78, 10.0)  # (lon, lat, depth)\n",
    "vars_at_location = get_model_vars(*robot_location)\n",
    "print(vars_at_location)"
   ]
  }
 ],
 "metadata": {
  "kernelspec": {
   "display_name": "Python 3 (ipykernel)",
   "language": "python",
   "name": "python3"
  },
  "language_info": {
   "codemirror_mode": {
    "name": "ipython",
    "version": 3
   },
   "file_extension": ".py",
   "mimetype": "text/x-python",
   "name": "python",
   "nbconvert_exporter": "python",
   "pygments_lexer": "ipython3",
   "version": "3.12.10"
  }
 },
 "nbformat": 4,
 "nbformat_minor": 5
}
