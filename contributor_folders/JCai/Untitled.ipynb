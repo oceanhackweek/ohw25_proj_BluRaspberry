{
 "cells": [
  {
   "cell_type": "code",
   "execution_count": 1,
   "id": "cb2c0132-f430-408f-b1c7-fe1fc706a8e9",
   "metadata": {},
   "outputs": [],
   "source": [
    "import xarray as xr\n",
    "import copernicusmarine\n",
    "import copernicusmarine as cm\n",
    "from pprint import pprint\n",
    "import json\n",
    "import matplotlib"
   ]
  },
  {
   "cell_type": "code",
   "execution_count": 3,
   "id": "455f9e0e-e8dc-4707-83bd-1c274f37f8d0",
   "metadata": {},
   "outputs": [],
   "source": [
    "cur_ds = xr.open_dataset(\"../team_member_cbps/copernicus-data/cmems_mod_glo_phy-cur_anfc_0.083deg_P1D-m_subset.nc\")\n",
    "so_ds = xr.open_dataset(\"../team_member_cbps/copernicus-data/cmems_mod_glo_phy-so_anfc_0.083deg_P1D-m_subset.nc\")\n",
    "thetao_ds = xr.open_dataset(\"../team_member_cbps/copernicus-data/cmems_mod_glo_phy-thetao_anfc_0.083deg_P1D-m_subset.nc\")"
   ]
  },
  {
   "cell_type": "code",
   "execution_count": null,
   "id": "51ffc27a-5482-40da-a5b2-d8c399824350",
   "metadata": {},
   "outputs": [],
   "source": []
  }
 ],
 "metadata": {
  "kernelspec": {
   "display_name": "Python 3 (ipykernel)",
   "language": "python",
   "name": "python3"
  },
  "language_info": {
   "codemirror_mode": {
    "name": "ipython",
    "version": 3
   },
   "file_extension": ".py",
   "mimetype": "text/x-python",
   "name": "python",
   "nbconvert_exporter": "python",
   "pygments_lexer": "ipython3",
   "version": "3.12.10"
  }
 },
 "nbformat": 4,
 "nbformat_minor": 5
}
