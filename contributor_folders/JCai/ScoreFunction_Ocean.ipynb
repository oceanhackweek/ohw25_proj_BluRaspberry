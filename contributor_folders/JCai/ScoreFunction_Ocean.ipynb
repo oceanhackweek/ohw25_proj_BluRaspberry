{
 "cells": [
  {
   "cell_type": "markdown",
   "id": "f520c911-e70a-481c-b144-87fbbc70fe72",
   "metadata": {},
   "source": [
    "# Score Function to optimize the path of UUV\n",
    "provide score fields for different cases ('consideration') for UUV sim"
   ]
  },
  {
   "cell_type": "code",
   "execution_count": null,
   "id": "77f7f57f-4fd4-4da9-a7a7-79a05bd87c8a",
   "metadata": {},
   "outputs": [],
   "source": [
    "import xarray as xr\n",
    "import numpy as np"
   ]
  },
  {
   "cell_type": "markdown",
   "id": "e25492dd-3ed8-415c-bcd2-2cff5258f84c",
   "metadata": {},
   "source": [
    "## Score function to provide score for each case\n",
    "INPUT: [lon, lat, depth, timestep]\n",
    "OUTPUT: [score1, score2, score3]\n",
    "\n",
    "1. gradient of O2 satuation rate: larger magnitude of gradient has higher score, need O2, water age, temperature, and salinity. gradient_O2 = abs(O2sat(Potential Coords) - O2sat(Current Coords)).\n",
    "2. Current: ?"
   ]
  },
  {
   "cell_type": "code",
   "execution_count": null,
   "id": "2492d364-07b8-415f-a27d-8d52a7b81b8e",
   "metadata": {},
   "outputs": [],
   "source": [
    "def get_o2_age(lon, lat, depth, method='linear'):\n",
    "    \" get Oxygen [mmol/(m^3 s)] and water age from OCIM at a giving location\"\n",
    "\n",
    "    OCIM_nc_file = 'ds_OCIM_struct.nc' # in 'data' folder, update the nc file if needed\n",
    "    ds = xr.open_dataset(OCIM_nc_file)\n",
    "\n",
    "    point = ds.sel(longitude=lon, latitude=lat, depth=depth, method=method)\n",
    "    \n",
    "    O2 = float(point['O2'].values)\n",
    "    age = float(point['age'].values)\n",
    "    \n",
    "    return O2, age"
   ]
  },
  {
   "cell_type": "code",
   "execution_count": null,
   "id": "829477a9-0d16-46dc-a061-559782611ac8",
   "metadata": {},
   "outputs": [],
   "source": [
    "def get_o2sat(lon, lat, depth, method='linear'):\n",
    "    \"\"\"\n",
    "    Computes the oxygen saturation concentration at 1 atm total pressure\n",
    "    in mol/m^3 given temperature (T, in °C) and salinity (S, in ‰).\n",
    "\n",
    "    From Garcia and Gordon (1992), Limnology and Oceanography.\n",
    "    Note: The \"A3*TS^2\" term in the paper is incorrect.\n",
    "\n",
    "    Valid range:\n",
    "        T(freezing) <= T <= 40 °C\n",
    "        0 ‰ <= S <= 42 ‰\n",
    "\n",
    "    Check value:\n",
    "        T = 10.0 °C, S = 35.0 ‰ → o2sat = 0.282015 mol/m^3 = 282 mmol/m^3\n",
    "    \"\"\"\n",
    "\n",
    "    # --------------------------------------------------------------------------\n",
    "    # grab T and S from location (lon, lat, depth) \n",
    "    # --------------------------------------------------------------------------\n",
    "\n",
    "    HYCOM_nc_file = 'copernicus-subset-jul-01-03-2025.nc' # in 'data' folder, update the nc file if needed\n",
    "    ds = xr.open_dataset(HYCOM_nc_file)\n",
    "\n",
    "    point = ds.sel(longitude=lon, latitude=lat, depth=depth, method=method)\n",
    "\n",
    "    T = float(point['temperature'].values) # unit of deg c\n",
    "    S = float(point['salinity'].values) # unit of PSU\n",
    "    \n",
    "\n",
    "    # -------------------------------------------------------------------------\n",
    "    # calculate the satuation rate\n",
    "    # --------------------------------------------------------------------------\n",
    "    \n",
    "    # Coefficients\n",
    "    A0, A1, A2, A3, A4, A5 = 2.00907, 3.22014, 4.05010, 4.94457, -2.56847e-1, 3.88767\n",
    "    B0, B1, B2, B3 = -6.24523e-3, -7.37614e-3, -1.03410e-2, -8.17083e-3\n",
    "    C0 = -4.88682e-7\n",
    "\n",
    "    TT = 298.15 - T\n",
    "    TK = 273.15 + T\n",
    "    TS = np.log(TT / TK)\n",
    "\n",
    "    # Polynomial terms\n",
    "    TS2, TS3, TS4, TS5 = TS**2, TS**3, TS**4, TS**5\n",
    "\n",
    "    # Oxygen solubility (ml/L)\n",
    "    CO = (A0 + A1*TS + A2*TS2 + A3*TS3 + A4*TS4 + A5*TS5\n",
    "          + S*(B0 + B1*TS + B2*TS2 + B3*TS3)\n",
    "          + C0*(S**2))\n",
    "\n",
    "    o2sat = np.exp(CO)\n",
    "\n",
    "    # Convert from ml/L to mmol/m^3\n",
    "    o2sat = (o2sat / 22391.6) * 1000.0 * 1000.0 \n",
    "\n",
    "    return o2sat"
   ]
  },
  {
   "cell_type": "code",
   "execution_count": null,
   "id": "7d40e3be-6169-46be-a907-daebd944adf0",
   "metadata": {},
   "outputs": [],
   "source": [
    "# Example usage\n",
    "robot_location = (123.45, 37.78, 10.0)  # (lon, lat, depth)\n",
    "O2, age = get_o2_age(*robot_location)\n",
    "O2sat = get_o2sat(*robot_location)\n",
    "\n",
    "print(\"O2:\", O2)\n",
    "print(\"Age:\", age)\n",
    "print(\"O2_Sat:\", O2sat)"
   ]
  },
  {
   "cell_type": "code",
   "execution_count": 1,
   "id": "854c0c0c-1801-471c-8600-7a887d5586c6",
   "metadata": {},
   "outputs": [],
   "source": [
    "def score_o2sat(cc, pc):\n",
    "    \"\"\"\n",
    "    input:\n",
    "    ---------------------------\n",
    "    cc: tuple\n",
    "        current coords (lon0, lat0, depth0)\n",
    "    pc: list of tuples\n",
    "        potential coords [(lon1, lat1, depth1), (lon2,lat2, depth2), ....]\n",
    "\n",
    "    get O2sat_{} based on the lon, lat, depth.\n",
    "    \n",
    "    gradient = np.abs(O2sat_cc - O2sat_pc)\n",
    "\n",
    "    normalized to 0-1 as score\n",
    "\n",
    "    return:\n",
    "    ---------------------------\n",
    "    normalized gradient scores (0-1), with the size of pc\n",
    "    \n",
    "    \"\"\"\n",
    "    # AOR in current location\n",
    "    O2sat_cc = get_o2sat(*cc)\n",
    "\n",
    "    # AOR in potential locations\n",
    "    O2sat_pc = np.array([get_o2sat(*loc) for loc in pc])\n",
    "\n",
    "    grad = np.abs(O2sat_cc - O2sat_pc)\n",
    "\n",
    "    # normalize to 0-1\n",
    "    total = np.sum(grad)\n",
    "    scores = grad / total if total > 0 else np.zeros_like(grad)\n",
    "\n",
    "    return scores"
   ]
  },
  {
   "cell_type": "code",
   "execution_count": null,
   "id": "19d53a3d-d019-4586-97a6-f11658945b5a",
   "metadata": {},
   "outputs": [],
   "source": [
    "# example usage\n",
    "\n",
    "cc = (lon0, lat0, depth0)\n",
    "pc = [(lon1, lat1, depth1), (lon2, lat2, depth2), (lon3, lat3, depth3)]\n",
    "\n",
    "scores = score_o2sat(cc, pc)\n",
    "print(scores)  # array of normalized scores"
   ]
  },
  {
   "cell_type": "code",
   "execution_count": null,
   "id": "f39cea69-d5d1-470e-aeee-9f1b8302a985",
   "metadata": {},
   "outputs": [],
   "source": []
  },
  {
   "cell_type": "code",
   "execution_count": null,
   "id": "8161f1da-d0f9-4665-9bbb-2f8fe56ab81b",
   "metadata": {},
   "outputs": [],
   "source": []
  },
  {
   "cell_type": "code",
   "execution_count": null,
   "id": "156ee6ab-8ed0-4203-afb7-65df8192da8e",
   "metadata": {},
   "outputs": [],
   "source": []
  }
 ],
 "metadata": {
  "kernelspec": {
   "display_name": "Python 3 (ipykernel)",
   "language": "python",
   "name": "python3"
  },
  "language_info": {
   "codemirror_mode": {
    "name": "ipython",
    "version": 3
   },
   "file_extension": ".py",
   "mimetype": "text/x-python",
   "name": "python",
   "nbconvert_exporter": "python",
   "pygments_lexer": "ipython3",
   "version": "3.12.10"
  }
 },
 "nbformat": 4,
 "nbformat_minor": 5
}
